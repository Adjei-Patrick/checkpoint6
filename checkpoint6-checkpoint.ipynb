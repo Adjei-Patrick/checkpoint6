{
 "cells": [
  {
   "cell_type": "code",
   "execution_count": 2,
   "id": "97c98714",
   "metadata": {},
   "outputs": [
    {
     "name": "stdout",
     "output_type": "stream",
     "text": [
      "[[1, 2, 3], [4, 5, 6], [7, 8, 9]]\n"
     ]
    }
   ],
   "source": [
    "#écrire un programme qui convertir un tableau en une liste\n",
    "import numpy as np\n",
    "\n",
    "tab = np.array([[1,2,3], [4,5,6], [7,8,9]])\n",
    "\n",
    "print(tab.tolist())"
   ]
  },
  {
   "cell_type": "code",
   "execution_count": 3,
   "id": "7dee4c93",
   "metadata": {},
   "outputs": [
    {
     "name": "stdout",
     "output_type": "stream",
     "text": [
      "[[55 25 15]\n",
      " [30 44  2]\n",
      " [11 45 77]]\n",
      "176\n"
     ]
    }
   ],
   "source": [
    "#écrire un programme numpy pour calculer la somme des éléments diagonaux\n",
    "\n",
    "import numpy as np\n",
    "\n",
    "tab = np.array([[55,25,15], [30,44,2], [11,45,77]])\n",
    "\n",
    "print(tab)\n",
    "\n",
    "tr = np.trace(tab) \n",
    "\n",
    "print(tr) "
   ]
  },
  {
   "cell_type": "code",
   "execution_count": 19,
   "id": "ddbaa561",
   "metadata": {},
   "outputs": [
    {
     "name": "stdout",
     "output_type": "stream",
     "text": [
      "les valeurs plus grandes que x sont:[8 5]\n"
     ]
    }
   ],
   "source": [
    "#obtenir toutes les superieurs à x de mon tableau\n",
    "\n",
    "import numpy as np\n",
    "\n",
    "a = np.array([[6,3], [8,5]])\n",
    "\n",
    "x = 5\n",
    "\n",
    "for i in a:\n",
    "        i = 0\n",
    "        i += 1\n",
    "        if i > x:\n",
    "            print(a[i])\n",
    "        else: \n",
    "            print(f\"les valeurs plus grandes que x sont:{a[i]}\")\n",
    "        break\n",
    "\n",
    "\n",
    "        "
   ]
  },
  {
   "cell_type": "code",
   "execution_count": 17,
   "id": "fd470637",
   "metadata": {},
   "outputs": [
    {
     "name": "stdout",
     "output_type": "stream",
     "text": [
      "[[33 95]\n",
      " [84 77]]\n"
     ]
    }
   ],
   "source": [
    "#creer un nouveau tableau à partir de deux tableaux existant\n",
    "import numpy as np\n",
    "\n",
    "A = np.array([[15,23], [62,33]])\n",
    "\n",
    "B = np.array([[18, 72], [22, 44]])\n",
    "\n",
    "C = np.add(A,B)\n",
    "\n",
    "print(C)\n"
   ]
  },
  {
   "cell_type": "code",
   "execution_count": 20,
   "id": "30853bb8",
   "metadata": {},
   "outputs": [
    {
     "name": "stdout",
     "output_type": "stream",
     "text": [
      "la moyenne de ma 1ère ligne est: 4.0\n",
      "la moyenne de ma 2è ligne est: 5.0\n"
     ]
    }
   ],
   "source": [
    "#écrire un programme qui soustraire la moyenne de chaque ligne d'une matrice\n",
    "import numpy as np\n",
    "import statistics as mean\n",
    "\n",
    "tab = np.array([[3,5], [1,9]])\n",
    "\n",
    "mean_line = np.mean(tab, axis = 1)\n",
    "\n",
    "mean_line1 = mean_line[0]\n",
    "print(\"la moyenne de ma 1ère ligne est:\", mean_line1)\n",
    "\n",
    "mean_line2 = mean_line[1]\n",
    "print(\"la moyenne de ma 2è ligne est:\", mean_line2)"
   ]
  },
  {
   "cell_type": "code",
   "execution_count": null,
   "id": "11ec2e71",
   "metadata": {},
   "outputs": [],
   "source": []
  }
 ],
 "metadata": {
  "kernelspec": {
   "display_name": "Python 3 (ipykernel)",
   "language": "python",
   "name": "python3"
  },
  "language_info": {
   "codemirror_mode": {
    "name": "ipython",
    "version": 3
   },
   "file_extension": ".py",
   "mimetype": "text/x-python",
   "name": "python",
   "nbconvert_exporter": "python",
   "pygments_lexer": "ipython3",
   "version": "3.9.7"
  }
 },
 "nbformat": 4,
 "nbformat_minor": 5
}
